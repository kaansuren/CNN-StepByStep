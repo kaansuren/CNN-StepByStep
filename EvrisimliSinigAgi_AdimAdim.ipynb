{
  "nbformat": 4,
  "nbformat_minor": 0,
  "metadata": {
    "colab": {
      "provenance": []
    },
    "kernelspec": {
      "name": "python3",
      "display_name": "Python 3"
    },
    "language_info": {
      "name": "python"
    },
    "accelerator": "GPU",
    "gpuClass": "standard"
  },
  "cells": [
    {
      "cell_type": "code",
      "execution_count": null,
      "metadata": {
        "colab": {
          "base_uri": "https://localhost:8080/"
        },
        "id": "Udep7J9nw5oQ",
        "outputId": "7fd78d40-f634-4760-8fa0-2d87ea5ff2fd"
      },
      "outputs": [
        {
          "output_type": "stream",
          "name": "stdout",
          "text": [
            "None\n"
          ]
        }
      ],
      "source": [
        "import numpy as np\n",
        "import matplotlib.pyplot as plt\n",
        "import h5py\n",
        "\n",
        "plt.rcParams[\"figure.figsize\"]=(5.0, 4.0)\n",
        "plt.rcParams[\"image.interpolation\"]=\"nearest\"\n",
        "plt.rcParams[\"image.cmap\"]=\"gray\"\n",
        "\n",
        "np.random.seed(1)\n",
        "print(np.random.seed(1))"
      ]
    },
    {
      "cell_type": "markdown",
      "source": [
        "## PİKSEL EKLEME (PADDING) FONKSİYONUNUN TANIMLANMASI"
      ],
      "metadata": {
        "id": "JuNMx4PuVVZv"
      }
    },
    {
      "cell_type": "code",
      "source": [
        "def zero_pad(X, pad):\n",
        "  x_pad = np.pad(X, ((0,0), (pad,pad), (pad,pad), (0,0)), \"constant\") #\n",
        "  return x_pad"
      ],
      "metadata": {
        "id": "flAp9HVI22Iu"
      },
      "execution_count": null,
      "outputs": []
    },
    {
      "cell_type": "markdown",
      "source": [
        "### PİKSEL EKLEME SONUCU GÖRSELLEŞTİRME"
      ],
      "metadata": {
        "id": "mzXHm4rUVbC4"
      }
    },
    {
      "cell_type": "code",
      "source": [
        "np.random.seed(1)\n",
        "x = np.random.randn(4, 3, 3, 2)\n",
        "\n",
        "x_pad=zero_pad(x,2)\n",
        "print(\"x.shape=\", x.shape) #padding ekleme öncesi\n",
        "print(\"x_pad.shape=\", x_pad.shape) #padding ekleme sonrası\n",
        "print(\"x[1,1]=\", x[1,1])\n",
        "print(\"x_pad[1,1]=\", x_pad[1,1])\n",
        "\n",
        "fig, axarr= plt.subplots(1,2)\n",
        "axarr[0].set_title(\"x\")\n",
        "axarr[0].imshow(x[0,:,:,0])\n",
        "axarr[1].set_title(\"x_pad\")\n",
        "axarr[1].imshow(x_pad[0,:,:,0])"
      ],
      "metadata": {
        "colab": {
          "base_uri": "https://localhost:8080/"
        },
        "id": "-KPkt9i-24nR",
        "outputId": "c05c411f-2011-4a26-c2a2-ccbe352f813d"
      },
      "execution_count": null,
      "outputs": [
        {
          "output_type": "stream",
          "name": "stdout",
          "text": [
            "x.shape= (4, 3, 3, 2)\n",
            "x_pad.shape= (4, 7, 7, 2)\n",
            "x[1,1]= [[ 0.90085595 -0.68372786]\n",
            " [-0.12289023 -0.93576943]\n",
            " [-0.26788808  0.53035547]]\n",
            "x_pad[1,1]= [[0. 0.]\n",
            " [0. 0.]\n",
            " [0. 0.]\n",
            " [0. 0.]\n",
            " [0. 0.]\n",
            " [0. 0.]\n",
            " [0. 0.]]\n"
          ]
        },
        {
          "output_type": "execute_result",
          "data": {
            "text/plain": [
              "<matplotlib.image.AxesImage at 0x7feb1e49e850>"
            ]
          },
          "metadata": {},
          "execution_count": 46
        },
        {
          "output_type": "display_data",
          "data": {
            "text/plain": [
              "<Figure size 360x288 with 2 Axes>"
            ],
            "image/png": "[encoded data removed]"
          },
          "metadata": {
            "needs_background": "light"
          }
        }
      ]
    },
    {
      "cell_type": "markdown",
      "source": [
        "## BİR EVRİŞİM İŞLEMİNİN TANIMLANMASI"
      ],
      "metadata": {
        "id": "q6fOXPwYVgIy"
      }
    },
    {
      "cell_type": "code",
      "source": [
        "def conv_single_step(a_slice_prev, W, b):\n",
        "  s = np.multiply(a_slice_prev, W) # x * W\n",
        "  Z = np.sum(s) # z = w * x\n",
        "  Z = float(b) + Z # (x*w) + b = Z + b\n",
        "  return Z\n"
      ],
      "metadata": {
        "id": "ExyHA_gK7O-9"
      },
      "execution_count": null,
      "outputs": []
    },
    {
      "cell_type": "markdown",
      "source": [
        "### Z=W.x+b İŞLEMİNİN HESAPLANMASI"
      ],
      "metadata": {
        "id": "lIvCN2tZVkg7"
      }
    },
    {
      "cell_type": "code",
      "source": [
        "np.random.seed(1)\n",
        "a_slice_prev = np.random.randn(4,4,3)#4x4x3 lük bir matris\n",
        "\n",
        "W = np.random.randn(4,4,3)# filtre ağırlık matrisi kanal sayıları eşit olmalı\n",
        "\n",
        "b = np.random.randn(1,1,1)\n",
        "\n",
        "Z = conv_single_step(a_slice_prev, W, b)\n",
        "print(\"Z = \", Z)\n",
        "#Bu değer bizim giriş matrisimizin filtrelerle çarpılmış bias değerleriyle toplanmış hali.\n",
        "#Buna ileri yönlü hesaplamaları yapmamız gerek.\n",
        "#İleri yönde aktivasyon fonksiyonu ile beslememiz gerekiyor.\n",
        "#Hiperparametre dediğimiz buradaki hiperparametreler stride ve padding değerleridir. Bunları belirlememiz gerekiyor.\n",
        "#Ağ matrisini elde edeceğiz.\n",
        "\n",
        "#İleri yönlü hesaplama yaparken giriş değerleri ile filtreler kullanarak evrişim işlemi gerçekleştiriliyordu.\n",
        "#Her bir evrişim işlemi bize 2 boyutlu matris çıktısı üretecek.\n",
        "#3 boyutlu bir giriş görüntüsü için bunları ard arda uygulamak gerekir."
      ],
      "metadata": {
        "colab": {
          "base_uri": "https://localhost:8080/"
        },
        "id": "JWUbuy1284VL",
        "outputId": "b2ae2364-1ad7-4200-a9ae-a1ad64c8055a"
      },
      "execution_count": null,
      "outputs": [
        {
          "output_type": "stream",
          "name": "stdout",
          "text": [
            "Z =  -6.999089450680221\n"
          ]
        }
      ]
    },
    {
      "cell_type": "markdown",
      "source": [
        "## İLERİ YAYILIM ALGORİTMASI İÇİN FONKSİYON TANIMI"
      ],
      "metadata": {
        "id": "q20mvkQgWk6u"
      }
    },
    {
      "cell_type": "code",
      "source": [
        "def conv_forward(A_0, W, b, hparameters):\n",
        "  (m, n_H_0, n_W_0, n_C_0) = A_0.shape # n_H_prev önceki matrisin yüksekliği, n_C_prev önceki matrisin kanal sayısı\n",
        "  # n_H_prev = n0 -> ilk giriş matrisi / a0 matrisi\n",
        "\n",
        "  (f, f, n_C_0, n_C) = W.shape #filtre matrisi / Ağırlık\n",
        "  # f-> filtre\n",
        "  #n_C_prev -> giriş matrisinin kanal sayısı\n",
        "\n",
        "  stride = hparameters[\"stride\"]\n",
        "  pad = hparameters[\"pad\"]\n",
        "\n",
        "\n",
        "  # ((n + 2*padding - filter)/stride)+1\n",
        "  n_H = int(((n_H_0-f+2*pad)/stride)+1) #filtre sonrası matrisimizin boyutunu elde ediyoruz / Matrisin Yüksekliği\n",
        "  #a1 matrisi\n",
        "\n",
        "\n",
        "  n_W = int(((n_H_0-f+2*pad)/stride)+1) #Matrisin genişliği\n",
        "\n",
        "  Z = np.zeros([m, n_H, n_W, n_C]) # m tane yeni matris boyutlarında ve kanal sayısında 0 lardan oluşan bir matris\n",
        "\n",
        "  A_0_pad = zero_pad(A_0, pad) # Padding ekleme / burada pad=2 / giriş matrisine padding ekliyoruz\n",
        "\n",
        "  for i in range(m): # Giriş matrisini filtrenin tek tek taraması\n",
        "    a_0_pad = A_0_pad[i]\n",
        "    for h in range(n_H):\n",
        "      for w in range(n_W):\n",
        "        for c in range(n_C):\n",
        "          vert_start = h*stride # Giriş matrisinin üstüne gelecek olan filtre matrisinin yatay ve dikey aralıkların belli olması\n",
        "          vert_end = vert_start +f\n",
        "          horiz_start = w*stride\n",
        "          horiz_end = horiz_start +f\n",
        "          \n",
        "          a_slice_0 = a_0_pad[vert_start:vert_end, horiz_start:horiz_end] # evrişim için kesilen kısım\n",
        "\n",
        "          Z[i, h, w, c] = conv_single_step(a_slice_0, W[...,c], b[...,c]) # Evrişim işleminin gerçekleşeceği kısım\n",
        "          #Z.shape = [10,4,4,8] / 8 kanala çıkartıldı\n",
        "  \n",
        "  #print(Z.shape)\n",
        "  assert(Z.shape == (m, n_H, n_W, n_C)) # Çıkış değerinin boyutunun doğruluğunun kontrolü\n",
        "\n",
        "  cache = (A_0, W, b, hparameters) # Geriye yayılım işlemi uygulayabilmek için değerleri saklıyoruz.\n",
        "\n",
        "  return Z, cache"
      ],
      "metadata": {
        "id": "xZgEHkCL9RXU"
      },
      "execution_count": null,
      "outputs": []
    },
    {
      "cell_type": "code",
      "source": [
        "np.random.seed(1)\n",
        "A_0 = np.random.randn(10,4,4,3) # 10 adet 4x4 matris / 3 kanallı\n",
        "W = np.random.randn(2,2,3,8) # 2x2 filtre matrisi / f0 = 3 kanallı / uygulanacak kanal sayısı = 8\n",
        "b = np.random.randn(1,1,1,8) \n",
        "\n",
        "hparameters = {\"pad\":2, \"stride\":2}\n",
        "\n",
        "Z, cache_conv = conv_forward(A_0, W, b, hparameters)\n",
        "\n",
        "print(\"Z nin ortalama= \", np.mean(Z))\n",
        "print(\"Z[3,2,1]=\",Z[3,2,1])\n",
        "print(\"cache_conv[0][1][2][3]=\",cache_conv[0][1][2][3])\n"
      ],
      "metadata": {
        "colab": {
          "base_uri": "https://localhost:8080/"
        },
        "id": "5VEf-N4vBGR0",
        "outputId": "e074be2c-e147-4043-aea1-67b2d6fa3bf5"
      },
      "execution_count": null,
      "outputs": [
        {
          "output_type": "stream",
          "name": "stdout",
          "text": [
            "Z nin ortalama=  0.048995203528855794\n",
            "Z[3,2,1]= [-0.61490741 -6.7439236  -2.55153897  1.75698377  3.56208902  0.53036437\n",
            "  5.18531798  8.75898442]\n",
            "cache_conv[0][1][2][3]= [-0.20075807  0.18656139  0.41005165]\n"
          ]
        }
      ]
    },
    {
      "cell_type": "markdown",
      "source": [
        "## ORTAKLAMA POOLING"
      ],
      "metadata": {
        "id": "MMfqeVItfyWM"
      }
    },
    {
      "cell_type": "code",
      "source": [
        "#İleri yönde ORTAKLAMA POOLING\n",
        "def pool_forward(A_prev, hparameters, mode = \"max\"):\n",
        "  (m, n_H_prev, n_W_prev, n_C_prev) = A_prev.shape # n_H_prev önceki matrisin yüksekliği, n_C_prev önceki matrisin kanal sayısı\n",
        "  \n",
        "  f = hparameters[\"f\"]\n",
        "  stride = hparameters[\"stride\"]\n",
        "  \n",
        "  n_H = int(1+(n_H_prev -f)/stride) # Yeni Matrisin Boyutları\n",
        "  n_W = int(1+(n_W_prev -f)/stride)\n",
        "\n",
        "  # Ortaklamada Kanal sayısı Değişmez!!\n",
        "  n_C = n_C_prev\n",
        "\n",
        "  #A matrisini İlklendirme Başlangıç belirleme\n",
        "  A = np.zeros((m, n_H, n_W, n_C))\n",
        "  \n",
        "  #for döngüsü ile bu matrisin içerik değerlerini genişlik yükselik ve kanal sayısını çekiyoruz\n",
        "  for i in range(m):\n",
        "    for h in range(n_H):\n",
        "      for w in range(n_W):\n",
        "        for c in range(n_C):\n",
        "          vert_start = h*stride\n",
        "          vert_end = vert_start +f\n",
        "          horiz_start = w*stride\n",
        "          horiz_end = horiz_start +f\n",
        "\n",
        "          #Köşe değerleri a_prev ve kanal sayısı c yi kullanarak hesaplanacak\n",
        "          a_prev_slice = A_prev[i, vert_start:vert_end, horiz_start:horiz_end, c]\n",
        "\n",
        "          if mode==\"max\":\n",
        "            A[i,h,w,c] = np.max(a_prev_slice)# Seçilen bölgenin max değeri alınıyor / ORtaklama matrisi sonucu A matrisimiz yeni matrisimiz oluyor\n",
        "          elif mode==\"avarage\":\n",
        "            A[i,h,w,c] = np.mean(a_prev_slice)# Seçilen bölgenin ortalaması alınıyor.\n",
        "  cache = (A_prev, hparameters) # Geri yayılım için A_prev yani A_0 tutuluyor.\n",
        "  assert(A.shape == (m, n_H, n_W, n_C))\n",
        "  return A, cache"
      ],
      "metadata": {
        "id": "NB7CDJAUDpY-"
      },
      "execution_count": null,
      "outputs": []
    },
    {
      "cell_type": "markdown",
      "source": [
        "### Farklı Ortaklama Tipleri için Sonuç Karşılaştırması"
      ],
      "metadata": {
        "id": "dI1rEgcR0SoK"
      }
    },
    {
      "cell_type": "code",
      "source": [
        "np.random.seed(1)\n",
        "A_0 = np.random.randn(2,4,4,3)\n",
        "hparameters = {\"stride\":2, \"f\":3}\n",
        "\n",
        "A, cache = pool_forward(A_0, hparameters)\n",
        "print(\"mod = max\")\n",
        "print(\"A.shape=\", A.shape)\n",
        "print(\"A =\", A)\n",
        "\n",
        "A, cache = pool_forward(A_0, hparameters, mode=\"avarage\")\n",
        "print(\"mod = Avarage\")\n",
        "print(\"A.shape=\", A.shape)\n",
        "print(\"A =\", A)"
      ],
      "metadata": {
        "colab": {
          "base_uri": "https://localhost:8080/"
        },
        "id": "1iD0Hv7iIamQ",
        "outputId": "0e96bcbd-dc98-4b9c-be31-195cf2532bb9"
      },
      "execution_count": null,
      "outputs": [
        {
          "output_type": "stream",
          "name": "stdout",
          "text": [
            "mod = max\n",
            "A.shape= (2, 1, 1, 3)\n",
            "A = [[[[1.74481176 0.86540763 1.13376944]]]\n",
            "\n",
            "\n",
            " [[[1.13162939 1.51981682 2.18557541]]]]\n",
            "mod = Avarage\n",
            "A.shape= (2, 1, 1, 3)\n",
            "A = [[[[ 0.02105773 -0.20328806 -0.40389855]]]\n",
            "\n",
            "\n",
            " [[[-0.22154621  0.51716526  0.48155844]]]]\n"
          ]
        }
      ]
    },
    {
      "cell_type": "markdown",
      "source": [
        "## GERİYE YAYILIM ALGORİTMASI İÇİN FONKSİYON TANIMI"
      ],
      "metadata": {
        "id": "ZOlBHLgh01_h"
      }
    },
    {
      "cell_type": "code",
      "source": [
        "def conv_backward (dZ, cache):\n",
        "  #cache de tutulan geçici değerleri çekiyoruz\n",
        "  (A_prev, W, b, hparameters) = cache\n",
        "\n",
        "  (m, n_H_prev, n_W_prev, n_C_prev) = A_prev.shape\n",
        "\n",
        "  (f,f,n_C_prev, n_C) = W.shape\n",
        "\n",
        "  stride = hparameters[\"stride\"]\n",
        "  pad = hparameters[\"pad\"]      \n",
        "\n",
        "  (m, n_H, n_W, n_C) = dZ.shape #Z nin türevi olacak matrisin boyutu\n",
        "\n",
        "  dA_prev = np.zeros((m, n_H_prev, n_W_prev, n_C_prev))# İlklendirme\n",
        "\n",
        "  dW= np.zeros((f,f,n_C_prev, n_C))\n",
        "  db = np.zeros((1,1,1,n_C))\n",
        "\n",
        "  A_prev_pad = zero_pad(A_prev, pad)\n",
        "  dA_prev_pad = zero_pad(dA_prev, pad)\n",
        "\n",
        "  for i in range(m):\n",
        "    a_prev_pad = A_prev_pad[i]\n",
        "    da_prev_pad = dA_prev_pad[i]\n",
        "\n",
        "    for h in range(n_H):\n",
        "      for w in range(n_W):\n",
        "        for c in range(n_C):\n",
        "          #Köşe bulma işlemleri\n",
        "          vert_start = h\n",
        "          vert_end = vert_start +f \n",
        "          horiz_start = w\n",
        "          horiz_end = horiz_start +f\n",
        "\n",
        "          a_slice = a_prev_pad[vert_start:vert_end, horiz_start: horiz_end,:]\n",
        "          #Her bir filtre için parametreleri güncelliyoruz.\n",
        "          da_prev_pad[vert_start:vert_end, horiz_start: horiz_end,:] += W[:,:,:,c] * dZ[i,h,w,c]\n",
        "          dW[:,:,:,c] += a_slice * dZ[i,h,w,c]\n",
        "          db[:,:,:,c] += dZ[i,h,w,c]\n",
        "        \n",
        "    dA_prev[i,:,:,:] = da_prev_pad[pad:-pad, pad:-pad,:]\n",
        "\n",
        "  assert(dA_prev.shape==(m,n_H_prev, n_W_prev, n_C_prev))\n",
        "\n",
        "  return dA_prev, dW, db"
      ],
      "metadata": {
        "id": "0BjWEo9p01j4"
      },
      "execution_count": null,
      "outputs": []
    },
    {
      "cell_type": "code",
      "source": [
        "np.random.seed(1)\n",
        "dA, dW, db = conv_backward(Z, cache_conv)\n",
        "\n",
        "print(\"dA ortalama =\", np.mean(dA))\n",
        "print(\"dW ortalama =\", np.mean(dW))\n",
        "print(\"db ortalama=\", np.mean(db))"
      ],
      "metadata": {
        "colab": {
          "base_uri": "https://localhost:8080/"
        },
        "id": "HnuJ-3a09cmo",
        "outputId": "8279fb9b-21cb-4f57-bf2d-9265c09a3752"
      },
      "execution_count": null,
      "outputs": [
        {
          "output_type": "stream",
          "name": "stdout",
          "text": [
            "dA ortalama = 0.6347704472654743\n",
            "dW ortalama = 1.5572657428497354\n",
            "db ortalama= 7.839232564616838\n"
          ]
        }
      ]
    },
    {
      "cell_type": "markdown",
      "source": [
        "## FİLTRE TANIMLAMA VE BU FİLTREYE GÖRE GERİYE YAYILIMDA MAKSİMUM ORTAKLAMA VE ORTALAMA ORTAKLAMA İŞLEMLERİ"
      ],
      "metadata": {
        "id": "UIk0qp52S1rL"
      }
    },
    {
      "cell_type": "code",
      "source": [
        "#Maksimim ortaklama\n",
        "def create_mask_from_window(x):\n",
        "  mask = x == np.max(x)\n",
        "  return mask"
      ],
      "metadata": {
        "id": "-O3_TX9VPPMs"
      },
      "execution_count": null,
      "outputs": []
    },
    {
      "cell_type": "code",
      "source": [
        "np.random.seed(1)\n",
        "x=np.random.randn(2,3)\n",
        "mask = create_mask_from_window(x)\n",
        "\n",
        "print(\"x=\",x)\n",
        "print(\"maske=\",mask)\n",
        "#En büyük değeri neden tutuyoruz?\n",
        "#İleri yönlü hesaplama sonrasında çıkışta oluşacak hataya etki eden maximum değer olduğu için tutuyoruz.\n",
        "#Geri yayılım esnasında hataya etki eden değerin 0 dan farklı bir gradyan değerine sahip olması gerekir.\n",
        "#Hata geri yayılırken maximum değer üzerinden yayılır o yüzdende maximum değer üzerinden alındı."
      ],
      "metadata": {
        "colab": {
          "base_uri": "https://localhost:8080/"
        },
        "id": "PbfRB7UUPUbV",
        "outputId": "560e61fa-b1ea-47ac-d3a2-4899b85cb025"
      },
      "execution_count": null,
      "outputs": [
        {
          "output_type": "stream",
          "name": "stdout",
          "text": [
            "x= [[ 1.62434536 -0.61175641 -0.52817175]\n",
            " [-1.07296862  0.86540763 -2.3015387 ]]\n",
            "maske= [[ True False False]\n",
            " [False False False]]\n"
          ]
        }
      ]
    },
    {
      "cell_type": "code",
      "source": [
        "#Ortalama Ortaklama\n",
        "#Maksimum ortaklama da sadece en büyük değeri çıkıştaki değere etki ederken ortalama ortaklamada her bir değer eşit oranda etki eder.\n",
        "#İleri yönde hesaplamada 2x2 boyutlu bir filtre ile ortalama ortaklama yaparsak geri yayılım sırasında kullanılan maskede eşit dağılımlı olur.\n",
        "def distribute_value(dz, shape):\n",
        "  (n_H, n_W) = shape\n",
        "\n",
        "  avarage = dz / (n_H * n_W)\n",
        "\n",
        "  a = np.ones(shape) * avarage\n",
        "\n",
        "  return a"
      ],
      "metadata": {
        "id": "v9r7j9hLPidS"
      },
      "execution_count": null,
      "outputs": []
    },
    {
      "cell_type": "code",
      "source": [
        "a = distribute_value(2,(2,2))\n",
        "\n",
        "print(\"Dağıtılmış değer=\", a)"
      ],
      "metadata": {
        "colab": {
          "base_uri": "https://localhost:8080/"
        },
        "id": "3gFgeZQvPwHm",
        "outputId": "3e382c4c-0a6e-47d1-f4c9-5aca50feb87e"
      },
      "execution_count": null,
      "outputs": [
        {
          "output_type": "stream",
          "name": "stdout",
          "text": [
            "Dağıtılmış değer= [[0.5 0.5]\n",
            " [0.5 0.5]]\n"
          ]
        }
      ]
    },
    {
      "cell_type": "markdown",
      "source": [
        "## GERİ YAYILIMDA ORTAKLAMA"
      ],
      "metadata": {
        "id": "G3vA9g3YR8rq"
      }
    },
    {
      "cell_type": "code",
      "source": [
        "def pool_backward(dA, cache, mode= 'max'):\n",
        "    (A_prev, hparameters) = cache\n",
        "\n",
        "    stride = hparameters['stride']\n",
        "    f = hparameters['f']\n",
        "   \n",
        "    m, n_H_prev, n_W_prev, n_C_prev = A_prev.shape\n",
        "    m, n_H, n_W, n_C = dA.shape\n",
        "    \n",
        "    dA_prev = np.zeros(A_prev.shape)\n",
        " \n",
        "    for i in range(m):                       \n",
        "        a_prev = A_prev[i]\n",
        "        \n",
        "        for h in range(n_H):                   \n",
        "            for w in range(n_W):             \n",
        "                for c in range(n_C):           \n",
        "                    vert_start = h\n",
        "                    vert_end = vert_start + f\n",
        "                    horiz_start = w\n",
        "                    horiz_end = horiz_start + f\n",
        "                    \n",
        "                    if mode == \"max\":\n",
        "                        a_prev_slice = a_prev[vert_start:vert_end, horiz_start:horiz_end, c]\n",
        "            \n",
        "                        mask = create_mask_from_window(a_prev_slice)\n",
        "                   \n",
        "                        dA_prev[i, vert_start: vert_end, horiz_start: horiz_end, c] += np.multiply(mask, dA[i, h, w, c])\n",
        "                        \n",
        "                    elif mode == \"average\":\n",
        "                        da = dA[i,h,w,c]\n",
        "                      \n",
        "                        shape = (f,f)\n",
        "                        dA_prev[i, vert_start: vert_end, horiz_start: horiz_end, c] += distribute_value(da, shape)            \n",
        "    assert(dA_prev.shape == A_prev.shape)\n",
        "    \n",
        "    return dA_prev"
      ],
      "metadata": {
        "id": "4r62S6xkP2EC"
      },
      "execution_count": null,
      "outputs": []
    },
    {
      "cell_type": "markdown",
      "source": [
        "### Geriye Yayılım ile güncellenen Ağırlıklar ve Diğer Parametreler"
      ],
      "metadata": {
        "id": "80qP8JvySDe4"
      }
    },
    {
      "cell_type": "code",
      "source": [
        "np.random.seed(1)\n",
        "\n",
        "A_prev = np.random.randn(5, 5, 3, 2)\n",
        "hparameters = {\"stride\": 1, \"f\":2}\n",
        "A, cache = pool_forward(A_prev, hparameters)\n",
        "dA = np.random.randn(5, 4, 2, 2)\n",
        "\n",
        "dA_prev = pool_backward(dA, cache, mode= \"max\")\n",
        "\n",
        "print(\"mod = max\")\n",
        "print('dA ortalaması =', np.max(dA))\n",
        "print('dA_prev[1,1]', dA_prev[1,1])\n",
        "print()\n",
        "\n",
        "dA_prev = pool_backward(dA, cache, mode= \"average\")\n",
        "\n",
        "print(\"mod = average\")\n",
        "print('dA ortalaması =', np.mean(dA))\n",
        "print('dA_prev[1,1]', dA_prev[1,1])"
      ],
      "metadata": {
        "id": "JY_-HDMjQ9iS",
        "colab": {
          "base_uri": "https://localhost:8080/"
        },
        "outputId": "4c22bc61-d35b-4ddb-a5b7-a474fe87722f"
      },
      "execution_count": null,
      "outputs": [
        {
          "output_type": "stream",
          "name": "stdout",
          "text": [
            "mod = max\n",
            "dA ortalaması = 2.528325706806398\n",
            "dA_prev[1,1] [[ 0.          0.        ]\n",
            " [ 5.05844394 -1.68282702]\n",
            " [ 0.          0.        ]]\n",
            "\n",
            "mod = average\n",
            "dA ortalaması = 0.14571390272918056\n",
            "dA_prev[1,1] [[ 0.08485462  0.2787552 ]\n",
            " [ 1.26461098 -0.25749373]\n",
            " [ 1.17975636 -0.53624893]]\n"
          ]
        }
      ]
    }
  ]
}